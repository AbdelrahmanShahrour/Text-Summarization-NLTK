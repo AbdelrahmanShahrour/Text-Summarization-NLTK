{
 "cells": [
  {
   "cell_type": "code",
   "execution_count": 1,
   "id": "747de5d1",
   "metadata": {
    "_cell_guid": "b1076dfc-b9ad-4769-8c92-a6c4dae69d19",
    "_uuid": "8f2839f25d086af736a60e9eeb907d3b93b6e0e5",
    "execution": {
     "iopub.execute_input": "2022-12-01T16:15:53.954065Z",
     "iopub.status.busy": "2022-12-01T16:15:53.953592Z",
     "iopub.status.idle": "2022-12-01T16:15:56.337911Z",
     "shell.execute_reply": "2022-12-01T16:15:56.336562Z"
    },
    "papermill": {
     "duration": 2.395243,
     "end_time": "2022-12-01T16:15:56.340737",
     "exception": false,
     "start_time": "2022-12-01T16:15:53.945494",
     "status": "completed"
    },
    "tags": []
   },
   "outputs": [
    {
     "name": "stderr",
     "output_type": "stream",
     "text": [
      "[nltk_data] Downloading package punkt to\n",
      "[nltk_data]     /home/abdalrahamn/nltk_data...\n",
      "[nltk_data]   Package punkt is already up-to-date!\n",
      "[nltk_data] Downloading package stopwords to\n",
      "[nltk_data]     /home/abdalrahamn/nltk_data...\n",
      "[nltk_data]   Package stopwords is already up-to-date!\n",
      "[nltk_data] Downloading package wordnet to\n",
      "[nltk_data]     /home/abdalrahamn/nltk_data...\n",
      "[nltk_data]   Package wordnet is already up-to-date!\n",
      "[nltk_data] Downloading package omw-1.4 to\n",
      "[nltk_data]     /home/abdalrahamn/nltk_data...\n",
      "[nltk_data]   Package omw-1.4 is already up-to-date!\n"
     ]
    },
    {
     "data": {
      "text/plain": [
       "True"
      ]
     },
     "execution_count": 1,
     "metadata": {},
     "output_type": "execute_result"
    }
   ],
   "source": [
    "import pandas as pd\n",
    "import numpy as np\n",
    "import nltk\n",
    "import re\n",
    "import heapq  \n",
    "import pickle\n",
    "from string import punctuation\n",
    "from nltk.corpus import stopwords\n",
    "punctuation = punctuation + '\\n'\n",
    "from nltk.stem.isri import ISRIStemmer\n",
    "from nltk.tokenize import word_tokenize, sent_tokenize\n",
    "nltk.download('punkt')\n",
    "nltk.download('stopwords')\n",
    "nltk.download('wordnet')\n",
    "nltk.download('omw-1.4')"
   ]
  },
  {
   "cell_type": "code",
   "execution_count": 2,
   "id": "2e553bfe",
   "metadata": {
    "execution": {
     "iopub.execute_input": "2022-12-01T16:15:56.353965Z",
     "iopub.status.busy": "2022-12-01T16:15:56.352951Z",
     "iopub.status.idle": "2022-12-01T16:15:56.729245Z",
     "shell.execute_reply": "2022-12-01T16:15:56.727833Z"
    },
    "papermill": {
     "duration": 0.385757,
     "end_time": "2022-12-01T16:15:56.731973",
     "exception": false,
     "start_time": "2022-12-01T16:15:56.346216",
     "status": "completed"
    },
    "tags": []
   },
   "outputs": [],
   "source": [
    "data = pd.read_csv('data/arabic_categorization_data.csv')"
   ]
  },
  {
   "cell_type": "code",
   "execution_count": 3,
   "id": "c3cf239a",
   "metadata": {
    "execution": {
     "iopub.execute_input": "2022-12-01T16:15:56.744862Z",
     "iopub.status.busy": "2022-12-01T16:15:56.744392Z",
     "iopub.status.idle": "2022-12-01T16:15:56.757152Z",
     "shell.execute_reply": "2022-12-01T16:15:56.755810Z"
    },
    "papermill": {
     "duration": 0.023008,
     "end_time": "2022-12-01T16:15:56.760150",
     "exception": false,
     "start_time": "2022-12-01T16:15:56.737142",
     "status": "completed"
    },
    "tags": []
   },
   "outputs": [],
   "source": [
    "def nltk_summarizer(input_text):\n",
    "    number_of_sentence = 3\n",
    "    stopWords = set(nltk.corpus.stopwords.words(\"arabic\") + nltk.corpus.stopwords.words(\"english\"))\n",
    "    word_frequencies = {}  \n",
    "    for word in nltk.word_tokenize(input_text):  \n",
    "        if word not in stopWords:\n",
    "            if word not in punctuation:\n",
    "                if word not in word_frequencies.keys():\n",
    "                    word_frequencies[word] = 1\n",
    "                else:\n",
    "                    word_frequencies[word] += 1\n",
    "\n",
    "    maximum_frequncy = max(list(word_frequencies.values()),default=3)\n",
    "\n",
    "    for word in word_frequencies.keys():  \n",
    "        word_frequencies[word] = (word_frequencies[word]/maximum_frequncy)\n",
    "\n",
    "    sentence_list = nltk.sent_tokenize(input_text)\n",
    "    sentence_scores = {}  \n",
    "    for sent in sentence_list:\n",
    "        for word in nltk.word_tokenize(sent.lower()):\n",
    "            if word in word_frequencies.keys():\n",
    "                if len(sent.split(' ')) < 30:\n",
    "                    if sent not in sentence_scores.keys():\n",
    "                        sentence_scores[sent] = word_frequencies[word]\n",
    "                    else:\n",
    "                        sentence_scores[sent] += word_frequencies[word]\n",
    "\n",
    "    summary_sentences = heapq.nlargest(number_of_sentence, sentence_scores, key=sentence_scores.get)\n",
    "\n",
    "    summary = ' '.join(summary_sentences)  \n",
    "    return summary"
   ]
  },
  {
   "cell_type": "code",
   "execution_count": 4,
   "id": "65d987e6",
   "metadata": {
    "execution": {
     "iopub.execute_input": "2022-12-01T16:15:56.772413Z",
     "iopub.status.busy": "2022-12-01T16:15:56.771981Z",
     "iopub.status.idle": "2022-12-01T16:15:56.789407Z",
     "shell.execute_reply": "2022-12-01T16:15:56.788095Z"
    },
    "papermill": {
     "duration": 0.026386,
     "end_time": "2022-12-01T16:15:56.791715",
     "exception": false,
     "start_time": "2022-12-01T16:15:56.765329",
     "status": "completed"
    },
    "tags": []
   },
   "outputs": [],
   "source": [
    "def delete_links(input_text):\n",
    "    pettern  = r'''(?i)\\b((?:https?://|www\\d{0,3}[.]|[a-z0-9.\\-]+[.][a-z]{2,4}/)(?:[^\\s()<>]+|\\(([^\\s()<>]+|(\\([^\\s()<>]+\\)))*\\))+(?:\\(([^\\s()<>]+|(\\([^\\s()<>]+\\)))*\\)|[^\\s`!()\\[\\]{};:'\".,<>?«»“”‘’]))'''\n",
    "    out_text = re.sub(pettern, ' ', input_text)\n",
    "    return out_text\n",
    "\n",
    "def delete_repeated_characters(input_text):\n",
    "    pattern  = r'(.)\\1{2,}'\n",
    "    out_text = re.sub(pattern, r\"\\1\\1\", input_text)\n",
    "    return out_text\n",
    "\n",
    "def replace_letters(input_text):\n",
    "    replace = {\"أ\": \"ا\",\"ة\": \"ه\",\"إ\": \"ا\",\"آ\": \"ا\",\"\": \"\"}\n",
    "    replace = dict((re.escape(k), v) for k, v in replace.items()) \n",
    "    pattern = re.compile(\"|\".join(replace.keys()))\n",
    "    out_text = pattern.sub(lambda m: replace[re.escape(m.group(0))], input_text)\n",
    "    return out_text\n",
    "\n",
    "def clean_text(input_text):\n",
    "    replace = r'[/(){}\\[\\]|@âÂ,;\\?\\'\\\"\\*…؟–’،!&\\+-:؛-]'\n",
    "    out_text = re.sub(replace, \" \", input_text)\n",
    "    words = nltk.word_tokenize(out_text)\n",
    "    words = [word for word in words if word.isalpha()]\n",
    "    out_text = ' '.join(words)\n",
    "    return out_text\n",
    "\n",
    "def remove_vowelization(input_text):\n",
    "    vowelization = re.compile(\"\"\" ّ|َ|ً|ُ|ٌ|ِ|ٍ|ْ|ـ\"\"\", re.VERBOSE)\n",
    "    out_text = re.sub(vowelization, '', input_text)\n",
    "    return out_text\n",
    "\n",
    "def delete_stopwords(input_text):\n",
    "    stop_words = set(nltk.corpus.stopwords.words(\"arabic\") + nltk.corpus.stopwords.words(\"english\"))\n",
    "    tokenizer = nltk.tokenize.WhitespaceTokenizer()\n",
    "    tokens = tokenizer.tokenize(input_text)\n",
    "    wnl = nltk.WordNetLemmatizer()\n",
    "    lemmatizedTokens =[wnl.lemmatize(t) for t in tokens]\n",
    "    out_text = [w for w in lemmatizedTokens if not w in stop_words]\n",
    "    out_text = ' '.join(out_text)\n",
    "    return out_text\n",
    "\n",
    "def stem_text(input_text):\n",
    "    st = ISRIStemmer()\n",
    "    tokenizer = nltk.tokenize.WhitespaceTokenizer()\n",
    "    tokens = tokenizer.tokenize(input_text)\n",
    "    out_text = [st.stem(w) for w in tokens]\n",
    "    out_text = ' '.join(out_text)\n",
    "    return out_text\n",
    "\n",
    "\n",
    "def text_prepare(input_text, ar_text):\n",
    "    out_text = delete_links(input_text)\n",
    "    out_text = delete_repeated_characters(out_text)\n",
    "    out_text = clean_text(out_text)\n",
    "    out_text = delete_stopwords(out_text)\n",
    "    if ar_text:\n",
    "        out_text = replace_letters(out_text)\n",
    "        out_text = remove_vowelization(out_text)\n",
    "    else:\n",
    "        out_text = out_text.lower()\n",
    "    return out_text"
   ]
  },
  {
   "cell_type": "code",
   "execution_count": 5,
   "id": "f321b443",
   "metadata": {
    "execution": {
     "iopub.execute_input": "2022-12-01T16:15:56.803710Z",
     "iopub.status.busy": "2022-12-01T16:15:56.803195Z",
     "iopub.status.idle": "2022-12-01T16:16:24.056410Z",
     "shell.execute_reply": "2022-12-01T16:16:24.055100Z"
    },
    "papermill": {
     "duration": 27.262671,
     "end_time": "2022-12-01T16:16:24.059476",
     "exception": false,
     "start_time": "2022-12-01T16:15:56.796805",
     "status": "completed"
    },
    "tags": []
   },
   "outputs": [],
   "source": [
    "data['Processed Text'] = data['text'].apply(text_prepare, args=(True,))"
   ]
  },
  {
   "cell_type": "code",
   "execution_count": 6,
   "id": "7a811cb5",
   "metadata": {
    "execution": {
     "iopub.execute_input": "2022-12-01T16:16:24.072308Z",
     "iopub.status.busy": "2022-12-01T16:16:24.071894Z",
     "iopub.status.idle": "2022-12-01T16:16:24.093128Z",
     "shell.execute_reply": "2022-12-01T16:16:24.091823Z"
    },
    "papermill": {
     "duration": 0.03113,
     "end_time": "2022-12-01T16:16:24.096088",
     "exception": false,
     "start_time": "2022-12-01T16:16:24.064958",
     "status": "completed"
    },
    "tags": []
   },
   "outputs": [
    {
     "data": {
      "text/html": [
       "<div>\n",
       "<style scoped>\n",
       "    .dataframe tbody tr th:only-of-type {\n",
       "        vertical-align: middle;\n",
       "    }\n",
       "\n",
       "    .dataframe tbody tr th {\n",
       "        vertical-align: top;\n",
       "    }\n",
       "\n",
       "    .dataframe thead th {\n",
       "        text-align: right;\n",
       "    }\n",
       "</style>\n",
       "<table border=\"1\" class=\"dataframe\">\n",
       "  <thead>\n",
       "    <tr style=\"text-align: right;\">\n",
       "      <th></th>\n",
       "      <th>Unnamed: 0</th>\n",
       "      <th>text</th>\n",
       "      <th>type</th>\n",
       "      <th>Processed Text</th>\n",
       "    </tr>\n",
       "  </thead>\n",
       "  <tbody>\n",
       "    <tr>\n",
       "      <th>0</th>\n",
       "      <td>0</td>\n",
       "      <td>\\nأشرف رئيس الجمهورية الباجي قايد السبسي اليوم...</td>\n",
       "      <td>culture</td>\n",
       "      <td>اشرف رئيس الجمهوريه الباجي قايد السبسي اليوم ب...</td>\n",
       "    </tr>\n",
       "    <tr>\n",
       "      <th>1</th>\n",
       "      <td>1</td>\n",
       "      <td>\\nتحصل كتاب \"المصحف وقراءاته\" الذي ألفه باحثون...</td>\n",
       "      <td>culture</td>\n",
       "      <td>تحصل كتاب المصحف وقراءاته الفه باحثون تونسيون ...</td>\n",
       "    </tr>\n",
       "    <tr>\n",
       "      <th>2</th>\n",
       "      <td>2</td>\n",
       "      <td>\\nاستنكرت إدارة المسرح الوطني التونسي الحملة ا...</td>\n",
       "      <td>culture</td>\n",
       "      <td>استنكرت اداره المسرح الوطني التونسي الحمله شنه...</td>\n",
       "    </tr>\n",
       "    <tr>\n",
       "      <th>3</th>\n",
       "      <td>3</td>\n",
       "      <td>\\nاحتضن جناح تونس في القرية الدولية للأفلام بم...</td>\n",
       "      <td>culture</td>\n",
       "      <td>احتضن جناح تونس القريه الدوليه للافلام بمدينه ...</td>\n",
       "    </tr>\n",
       "    <tr>\n",
       "      <th>4</th>\n",
       "      <td>4</td>\n",
       "      <td>\\nشهدت برلين أمس الجمعة افتتاح مسجد فريد من نو...</td>\n",
       "      <td>culture</td>\n",
       "      <td>شهدت برلين الجمعه افتتاح مسجد فريد نوعه الاقل ...</td>\n",
       "    </tr>\n",
       "    <tr>\n",
       "      <th>...</th>\n",
       "      <td>...</td>\n",
       "      <td>...</td>\n",
       "      <td>...</td>\n",
       "      <td>...</td>\n",
       "    </tr>\n",
       "    <tr>\n",
       "      <th>10361</th>\n",
       "      <td>4814</td>\n",
       "      <td>\\nأكد المكلف بالإعلام والاتصال بالإدارة العامة...</td>\n",
       "      <td>localnews</td>\n",
       "      <td>اكد المكلف بالاعلام والاتصال بالاداره العامه ل...</td>\n",
       "    </tr>\n",
       "    <tr>\n",
       "      <th>10362</th>\n",
       "      <td>4815</td>\n",
       "      <td>\\nتمكّنت فرقة الأبحاث والتفتيش للحرس الوطني بط...</td>\n",
       "      <td>localnews</td>\n",
       "      <td>فرقه الابحاث والتفتيش للحرس الوطني بطبلبه ولاي...</td>\n",
       "    </tr>\n",
       "    <tr>\n",
       "      <th>10363</th>\n",
       "      <td>4816</td>\n",
       "      <td>\\nقرر الأهالي بمناطق هيشر وعين القارصي والغولا...</td>\n",
       "      <td>localnews</td>\n",
       "      <td>قرر الاهالي بمناطق هيشر وعين القارصي والغولايث...</td>\n",
       "    </tr>\n",
       "    <tr>\n",
       "      <th>10364</th>\n",
       "      <td>4817</td>\n",
       "      <td>\\nتمكنت وحدات الحرس الوطني بمحطة الإستخلاص ببر...</td>\n",
       "      <td>localnews</td>\n",
       "      <td>تمكنت وحدات الحرس الوطني بمحطه الاستخلاص ببرج ...</td>\n",
       "    </tr>\n",
       "    <tr>\n",
       "      <th>10365</th>\n",
       "      <td>4818</td>\n",
       "      <td>\\nأصيب مساء اليوم الأربعاء، عسكري بطلق ناري عل...</td>\n",
       "      <td>localnews</td>\n",
       "      <td>اصيب اليوم الاربعاء عسكري بطلق ناري وجه الخطاء...</td>\n",
       "    </tr>\n",
       "  </tbody>\n",
       "</table>\n",
       "<p>10366 rows × 4 columns</p>\n",
       "</div>"
      ],
      "text/plain": [
       "       Unnamed: 0                                               text  \\\n",
       "0               0  \\nأشرف رئيس الجمهورية الباجي قايد السبسي اليوم...   \n",
       "1               1  \\nتحصل كتاب \"المصحف وقراءاته\" الذي ألفه باحثون...   \n",
       "2               2  \\nاستنكرت إدارة المسرح الوطني التونسي الحملة ا...   \n",
       "3               3  \\nاحتضن جناح تونس في القرية الدولية للأفلام بم...   \n",
       "4               4  \\nشهدت برلين أمس الجمعة افتتاح مسجد فريد من نو...   \n",
       "...           ...                                                ...   \n",
       "10361        4814  \\nأكد المكلف بالإعلام والاتصال بالإدارة العامة...   \n",
       "10362        4815  \\nتمكّنت فرقة الأبحاث والتفتيش للحرس الوطني بط...   \n",
       "10363        4816  \\nقرر الأهالي بمناطق هيشر وعين القارصي والغولا...   \n",
       "10364        4817  \\nتمكنت وحدات الحرس الوطني بمحطة الإستخلاص ببر...   \n",
       "10365        4818  \\nأصيب مساء اليوم الأربعاء، عسكري بطلق ناري عل...   \n",
       "\n",
       "            type                                     Processed Text  \n",
       "0        culture  اشرف رئيس الجمهوريه الباجي قايد السبسي اليوم ب...  \n",
       "1        culture  تحصل كتاب المصحف وقراءاته الفه باحثون تونسيون ...  \n",
       "2        culture  استنكرت اداره المسرح الوطني التونسي الحمله شنه...  \n",
       "3        culture  احتضن جناح تونس القريه الدوليه للافلام بمدينه ...  \n",
       "4        culture  شهدت برلين الجمعه افتتاح مسجد فريد نوعه الاقل ...  \n",
       "...          ...                                                ...  \n",
       "10361  localnews  اكد المكلف بالاعلام والاتصال بالاداره العامه ل...  \n",
       "10362  localnews  فرقه الابحاث والتفتيش للحرس الوطني بطبلبه ولاي...  \n",
       "10363  localnews  قرر الاهالي بمناطق هيشر وعين القارصي والغولايث...  \n",
       "10364  localnews  تمكنت وحدات الحرس الوطني بمحطه الاستخلاص ببرج ...  \n",
       "10365  localnews  اصيب اليوم الاربعاء عسكري بطلق ناري وجه الخطاء...  \n",
       "\n",
       "[10366 rows x 4 columns]"
      ]
     },
     "execution_count": 6,
     "metadata": {},
     "output_type": "execute_result"
    }
   ],
   "source": [
    "data"
   ]
  },
  {
   "cell_type": "code",
   "execution_count": 7,
   "id": "7e7e7be6",
   "metadata": {
    "execution": {
     "iopub.execute_input": "2022-12-01T16:16:24.109224Z",
     "iopub.status.busy": "2022-12-01T16:16:24.108330Z",
     "iopub.status.idle": "2022-12-01T16:16:52.954100Z",
     "shell.execute_reply": "2022-12-01T16:16:52.952750Z"
    },
    "papermill": {
     "duration": 28.855618,
     "end_time": "2022-12-01T16:16:52.957271",
     "exception": false,
     "start_time": "2022-12-01T16:16:24.101653",
     "status": "completed"
    },
    "tags": []
   },
   "outputs": [],
   "source": [
    "nltk_summarizer\n",
    "data['summarizer'] = data['text'].apply(nltk_summarizer)"
   ]
  },
  {
   "cell_type": "code",
   "execution_count": 8,
   "id": "26d074fe",
   "metadata": {
    "execution": {
     "iopub.execute_input": "2022-12-01T16:16:52.970121Z",
     "iopub.status.busy": "2022-12-01T16:16:52.969587Z",
     "iopub.status.idle": "2022-12-01T16:16:52.986161Z",
     "shell.execute_reply": "2022-12-01T16:16:52.985213Z"
    },
    "papermill": {
     "duration": 0.025973,
     "end_time": "2022-12-01T16:16:52.988993",
     "exception": false,
     "start_time": "2022-12-01T16:16:52.963020",
     "status": "completed"
    },
    "tags": []
   },
   "outputs": [
    {
     "data": {
      "text/html": [
       "<div>\n",
       "<style scoped>\n",
       "    .dataframe tbody tr th:only-of-type {\n",
       "        vertical-align: middle;\n",
       "    }\n",
       "\n",
       "    .dataframe tbody tr th {\n",
       "        vertical-align: top;\n",
       "    }\n",
       "\n",
       "    .dataframe thead th {\n",
       "        text-align: right;\n",
       "    }\n",
       "</style>\n",
       "<table border=\"1\" class=\"dataframe\">\n",
       "  <thead>\n",
       "    <tr style=\"text-align: right;\">\n",
       "      <th></th>\n",
       "      <th>Unnamed: 0</th>\n",
       "      <th>text</th>\n",
       "      <th>type</th>\n",
       "      <th>Processed Text</th>\n",
       "      <th>summarizer</th>\n",
       "    </tr>\n",
       "  </thead>\n",
       "  <tbody>\n",
       "    <tr>\n",
       "      <th>0</th>\n",
       "      <td>0</td>\n",
       "      <td>\\nأشرف رئيس الجمهورية الباجي قايد السبسي اليوم...</td>\n",
       "      <td>culture</td>\n",
       "      <td>اشرف رئيس الجمهوريه الباجي قايد السبسي اليوم ب...</td>\n",
       "      <td>\\nأشرف رئيس الجمهورية الباجي قايد السبسي اليوم...</td>\n",
       "    </tr>\n",
       "    <tr>\n",
       "      <th>1</th>\n",
       "      <td>1</td>\n",
       "      <td>\\nتحصل كتاب \"المصحف وقراءاته\" الذي ألفه باحثون...</td>\n",
       "      <td>culture</td>\n",
       "      <td>تحصل كتاب المصحف وقراءاته الفه باحثون تونسيون ...</td>\n",
       "      <td>\\nتحصل كتاب \"المصحف وقراءاته\" الذي ألفه باحثون...</td>\n",
       "    </tr>\n",
       "    <tr>\n",
       "      <th>2</th>\n",
       "      <td>2</td>\n",
       "      <td>\\nاستنكرت إدارة المسرح الوطني التونسي الحملة ا...</td>\n",
       "      <td>culture</td>\n",
       "      <td>استنكرت اداره المسرح الوطني التونسي الحمله شنه...</td>\n",
       "      <td></td>\n",
       "    </tr>\n",
       "    <tr>\n",
       "      <th>3</th>\n",
       "      <td>3</td>\n",
       "      <td>\\nاحتضن جناح تونس في القرية الدولية للأفلام بم...</td>\n",
       "      <td>culture</td>\n",
       "      <td>احتضن جناح تونس القريه الدوليه للافلام بمدينه ...</td>\n",
       "      <td>تونس حاضرة من جهة أخرى ستكون تونس حاضرة في قائ...</td>\n",
       "    </tr>\n",
       "    <tr>\n",
       "      <th>4</th>\n",
       "      <td>4</td>\n",
       "      <td>\\nشهدت برلين أمس الجمعة افتتاح مسجد فريد من نو...</td>\n",
       "      <td>culture</td>\n",
       "      <td>شهدت برلين الجمعه افتتاح مسجد فريد نوعه الاقل ...</td>\n",
       "      <td>واستأجرت صاحبة المشروع المحامية والكاتبة سيران...</td>\n",
       "    </tr>\n",
       "    <tr>\n",
       "      <th>...</th>\n",
       "      <td>...</td>\n",
       "      <td>...</td>\n",
       "      <td>...</td>\n",
       "      <td>...</td>\n",
       "      <td>...</td>\n",
       "    </tr>\n",
       "    <tr>\n",
       "      <th>10361</th>\n",
       "      <td>4814</td>\n",
       "      <td>\\nأكد المكلف بالإعلام والاتصال بالإدارة العامة...</td>\n",
       "      <td>localnews</td>\n",
       "      <td>اكد المكلف بالاعلام والاتصال بالاداره العامه ل...</td>\n",
       "      <td></td>\n",
       "    </tr>\n",
       "    <tr>\n",
       "      <th>10362</th>\n",
       "      <td>4815</td>\n",
       "      <td>\\nتمكّنت فرقة الأبحاث والتفتيش للحرس الوطني بط...</td>\n",
       "      <td>localnews</td>\n",
       "      <td>فرقه الابحاث والتفتيش للحرس الوطني بطبلبه ولاي...</td>\n",
       "      <td>كما تمّ إلقاء القبض على عنصر رابع (عمره 32 سنة...</td>\n",
       "    </tr>\n",
       "    <tr>\n",
       "      <th>10363</th>\n",
       "      <td>4816</td>\n",
       "      <td>\\nقرر الأهالي بمناطق هيشر وعين القارصي والغولا...</td>\n",
       "      <td>localnews</td>\n",
       "      <td>قرر الاهالي بمناطق هيشر وعين القارصي والغولايث...</td>\n",
       "      <td>وتأتي هذه الخطوة على خلفية ما اعتبره أهالي هذه...</td>\n",
       "    </tr>\n",
       "    <tr>\n",
       "      <th>10364</th>\n",
       "      <td>4817</td>\n",
       "      <td>\\nتمكنت وحدات الحرس الوطني بمحطة الإستخلاص ببر...</td>\n",
       "      <td>localnews</td>\n",
       "      <td>تمكنت وحدات الحرس الوطني بمحطه الاستخلاص ببرج ...</td>\n",
       "      <td>\\nتمكنت وحدات الحرس الوطني بمحطة الإستخلاص ببر...</td>\n",
       "    </tr>\n",
       "    <tr>\n",
       "      <th>10365</th>\n",
       "      <td>4818</td>\n",
       "      <td>\\nأصيب مساء اليوم الأربعاء، عسكري بطلق ناري عل...</td>\n",
       "      <td>localnews</td>\n",
       "      <td>اصيب اليوم الاربعاء عسكري بطلق ناري وجه الخطاء...</td>\n",
       "      <td></td>\n",
       "    </tr>\n",
       "  </tbody>\n",
       "</table>\n",
       "<p>10366 rows × 5 columns</p>\n",
       "</div>"
      ],
      "text/plain": [
       "       Unnamed: 0                                               text  \\\n",
       "0               0  \\nأشرف رئيس الجمهورية الباجي قايد السبسي اليوم...   \n",
       "1               1  \\nتحصل كتاب \"المصحف وقراءاته\" الذي ألفه باحثون...   \n",
       "2               2  \\nاستنكرت إدارة المسرح الوطني التونسي الحملة ا...   \n",
       "3               3  \\nاحتضن جناح تونس في القرية الدولية للأفلام بم...   \n",
       "4               4  \\nشهدت برلين أمس الجمعة افتتاح مسجد فريد من نو...   \n",
       "...           ...                                                ...   \n",
       "10361        4814  \\nأكد المكلف بالإعلام والاتصال بالإدارة العامة...   \n",
       "10362        4815  \\nتمكّنت فرقة الأبحاث والتفتيش للحرس الوطني بط...   \n",
       "10363        4816  \\nقرر الأهالي بمناطق هيشر وعين القارصي والغولا...   \n",
       "10364        4817  \\nتمكنت وحدات الحرس الوطني بمحطة الإستخلاص ببر...   \n",
       "10365        4818  \\nأصيب مساء اليوم الأربعاء، عسكري بطلق ناري عل...   \n",
       "\n",
       "            type                                     Processed Text  \\\n",
       "0        culture  اشرف رئيس الجمهوريه الباجي قايد السبسي اليوم ب...   \n",
       "1        culture  تحصل كتاب المصحف وقراءاته الفه باحثون تونسيون ...   \n",
       "2        culture  استنكرت اداره المسرح الوطني التونسي الحمله شنه...   \n",
       "3        culture  احتضن جناح تونس القريه الدوليه للافلام بمدينه ...   \n",
       "4        culture  شهدت برلين الجمعه افتتاح مسجد فريد نوعه الاقل ...   \n",
       "...          ...                                                ...   \n",
       "10361  localnews  اكد المكلف بالاعلام والاتصال بالاداره العامه ل...   \n",
       "10362  localnews  فرقه الابحاث والتفتيش للحرس الوطني بطبلبه ولاي...   \n",
       "10363  localnews  قرر الاهالي بمناطق هيشر وعين القارصي والغولايث...   \n",
       "10364  localnews  تمكنت وحدات الحرس الوطني بمحطه الاستخلاص ببرج ...   \n",
       "10365  localnews  اصيب اليوم الاربعاء عسكري بطلق ناري وجه الخطاء...   \n",
       "\n",
       "                                              summarizer  \n",
       "0      \\nأشرف رئيس الجمهورية الباجي قايد السبسي اليوم...  \n",
       "1      \\nتحصل كتاب \"المصحف وقراءاته\" الذي ألفه باحثون...  \n",
       "2                                                         \n",
       "3      تونس حاضرة من جهة أخرى ستكون تونس حاضرة في قائ...  \n",
       "4      واستأجرت صاحبة المشروع المحامية والكاتبة سيران...  \n",
       "...                                                  ...  \n",
       "10361                                                     \n",
       "10362  كما تمّ إلقاء القبض على عنصر رابع (عمره 32 سنة...  \n",
       "10363  وتأتي هذه الخطوة على خلفية ما اعتبره أهالي هذه...  \n",
       "10364  \\nتمكنت وحدات الحرس الوطني بمحطة الإستخلاص ببر...  \n",
       "10365                                                     \n",
       "\n",
       "[10366 rows x 5 columns]"
      ]
     },
     "execution_count": 8,
     "metadata": {},
     "output_type": "execute_result"
    }
   ],
   "source": [
    "data"
   ]
  },
  {
   "cell_type": "code",
   "execution_count": 9,
   "id": "0c74108c",
   "metadata": {
    "execution": {
     "iopub.execute_input": "2022-12-01T16:16:53.002925Z",
     "iopub.status.busy": "2022-12-01T16:16:53.001769Z",
     "iopub.status.idle": "2022-12-01T16:16:53.009180Z",
     "shell.execute_reply": "2022-12-01T16:16:53.007759Z"
    },
    "papermill": {
     "duration": 0.017306,
     "end_time": "2022-12-01T16:16:53.012091",
     "exception": false,
     "start_time": "2022-12-01T16:16:52.994785",
     "status": "completed"
    },
    "tags": []
   },
   "outputs": [
    {
     "name": "stdout",
     "output_type": "stream",
     "text": [
      "\n",
      "==========================================\n",
      "\n",
      "أعلنت وزارة الثقافة في بلاغ لها أنه ام تعيين كل من :\n",
      "-كمال الفرجاني مدير مهرجان الحمامات  الدولي  لسنة 2014- سنية مبارك  مديرة مهرجان  قرطاج  الدولي لسنة 2014- حمدي مخلوف  مدير أيام  قرطاج  الموسيقية  لسنة  2014 -  درة بوشوشة مديرة  ايام قرطاج السينمائية  لسنة  2014- لسعد الجموسي مدير ايام  قرطاج المسرحية  لسنة  2015 - محمد  محجوب  مدير معرض  تونس الدولي للكتاب لسنة  2015\n",
      "\n"
     ]
    }
   ],
   "source": [
    "print(data['summarizer'][100])\n",
    "print('==========================================')\n",
    "print(data['text'][100])"
   ]
  },
  {
   "cell_type": "code",
   "execution_count": 10,
   "id": "9f09625b",
   "metadata": {
    "execution": {
     "iopub.execute_input": "2022-12-01T16:16:53.025749Z",
     "iopub.status.busy": "2022-12-01T16:16:53.024871Z",
     "iopub.status.idle": "2022-12-01T16:16:53.031327Z",
     "shell.execute_reply": "2022-12-01T16:16:53.030152Z"
    },
    "papermill": {
     "duration": 0.016071,
     "end_time": "2022-12-01T16:16:53.033873",
     "exception": false,
     "start_time": "2022-12-01T16:16:53.017802",
     "status": "completed"
    },
    "tags": []
   },
   "outputs": [],
   "source": [
    "def aboutsummariz(text:str):\n",
    "    if len(text)<10:\n",
    "        ans = 'No'\n",
    "    else:\n",
    "        ans = \"Yes\"\n",
    "    return ans"
   ]
  },
  {
   "cell_type": "code",
   "execution_count": 11,
   "id": "b8aa2785",
   "metadata": {
    "execution": {
     "iopub.execute_input": "2022-12-01T16:16:53.047231Z",
     "iopub.status.busy": "2022-12-01T16:16:53.046832Z",
     "iopub.status.idle": "2022-12-01T16:16:53.058218Z",
     "shell.execute_reply": "2022-12-01T16:16:53.056763Z"
    },
    "papermill": {
     "duration": 0.021194,
     "end_time": "2022-12-01T16:16:53.060885",
     "exception": false,
     "start_time": "2022-12-01T16:16:53.039691",
     "status": "completed"
    },
    "tags": []
   },
   "outputs": [],
   "source": [
    "data['done?'] = data['summarizer'].apply(aboutsummariz)"
   ]
  },
  {
   "cell_type": "code",
   "execution_count": 12,
   "id": "93558b84",
   "metadata": {
    "execution": {
     "iopub.execute_input": "2022-12-01T16:16:53.075330Z",
     "iopub.status.busy": "2022-12-01T16:16:53.074908Z",
     "iopub.status.idle": "2022-12-01T16:16:53.095026Z",
     "shell.execute_reply": "2022-12-01T16:16:53.093614Z"
    },
    "papermill": {
     "duration": 0.029794,
     "end_time": "2022-12-01T16:16:53.097430",
     "exception": false,
     "start_time": "2022-12-01T16:16:53.067636",
     "status": "completed"
    },
    "tags": []
   },
   "outputs": [
    {
     "data": {
      "text/html": [
       "<div>\n",
       "<style scoped>\n",
       "    .dataframe tbody tr th:only-of-type {\n",
       "        vertical-align: middle;\n",
       "    }\n",
       "\n",
       "    .dataframe tbody tr th {\n",
       "        vertical-align: top;\n",
       "    }\n",
       "\n",
       "    .dataframe thead th {\n",
       "        text-align: right;\n",
       "    }\n",
       "</style>\n",
       "<table border=\"1\" class=\"dataframe\">\n",
       "  <thead>\n",
       "    <tr style=\"text-align: right;\">\n",
       "      <th></th>\n",
       "      <th>Unnamed: 0</th>\n",
       "      <th>text</th>\n",
       "      <th>type</th>\n",
       "      <th>Processed Text</th>\n",
       "      <th>summarizer</th>\n",
       "      <th>done?</th>\n",
       "    </tr>\n",
       "  </thead>\n",
       "  <tbody>\n",
       "    <tr>\n",
       "      <th>0</th>\n",
       "      <td>0</td>\n",
       "      <td>\\nأشرف رئيس الجمهورية الباجي قايد السبسي اليوم...</td>\n",
       "      <td>culture</td>\n",
       "      <td>اشرف رئيس الجمهوريه الباجي قايد السبسي اليوم ب...</td>\n",
       "      <td>\\nأشرف رئيس الجمهورية الباجي قايد السبسي اليوم...</td>\n",
       "      <td>Yes</td>\n",
       "    </tr>\n",
       "    <tr>\n",
       "      <th>1</th>\n",
       "      <td>1</td>\n",
       "      <td>\\nتحصل كتاب \"المصحف وقراءاته\" الذي ألفه باحثون...</td>\n",
       "      <td>culture</td>\n",
       "      <td>تحصل كتاب المصحف وقراءاته الفه باحثون تونسيون ...</td>\n",
       "      <td>\\nتحصل كتاب \"المصحف وقراءاته\" الذي ألفه باحثون...</td>\n",
       "      <td>Yes</td>\n",
       "    </tr>\n",
       "    <tr>\n",
       "      <th>2</th>\n",
       "      <td>2</td>\n",
       "      <td>\\nاستنكرت إدارة المسرح الوطني التونسي الحملة ا...</td>\n",
       "      <td>culture</td>\n",
       "      <td>استنكرت اداره المسرح الوطني التونسي الحمله شنه...</td>\n",
       "      <td></td>\n",
       "      <td>No</td>\n",
       "    </tr>\n",
       "    <tr>\n",
       "      <th>3</th>\n",
       "      <td>3</td>\n",
       "      <td>\\nاحتضن جناح تونس في القرية الدولية للأفلام بم...</td>\n",
       "      <td>culture</td>\n",
       "      <td>احتضن جناح تونس القريه الدوليه للافلام بمدينه ...</td>\n",
       "      <td>تونس حاضرة من جهة أخرى ستكون تونس حاضرة في قائ...</td>\n",
       "      <td>Yes</td>\n",
       "    </tr>\n",
       "    <tr>\n",
       "      <th>4</th>\n",
       "      <td>4</td>\n",
       "      <td>\\nشهدت برلين أمس الجمعة افتتاح مسجد فريد من نو...</td>\n",
       "      <td>culture</td>\n",
       "      <td>شهدت برلين الجمعه افتتاح مسجد فريد نوعه الاقل ...</td>\n",
       "      <td>واستأجرت صاحبة المشروع المحامية والكاتبة سيران...</td>\n",
       "      <td>Yes</td>\n",
       "    </tr>\n",
       "    <tr>\n",
       "      <th>...</th>\n",
       "      <td>...</td>\n",
       "      <td>...</td>\n",
       "      <td>...</td>\n",
       "      <td>...</td>\n",
       "      <td>...</td>\n",
       "      <td>...</td>\n",
       "    </tr>\n",
       "    <tr>\n",
       "      <th>10361</th>\n",
       "      <td>4814</td>\n",
       "      <td>\\nأكد المكلف بالإعلام والاتصال بالإدارة العامة...</td>\n",
       "      <td>localnews</td>\n",
       "      <td>اكد المكلف بالاعلام والاتصال بالاداره العامه ل...</td>\n",
       "      <td></td>\n",
       "      <td>No</td>\n",
       "    </tr>\n",
       "    <tr>\n",
       "      <th>10362</th>\n",
       "      <td>4815</td>\n",
       "      <td>\\nتمكّنت فرقة الأبحاث والتفتيش للحرس الوطني بط...</td>\n",
       "      <td>localnews</td>\n",
       "      <td>فرقه الابحاث والتفتيش للحرس الوطني بطبلبه ولاي...</td>\n",
       "      <td>كما تمّ إلقاء القبض على عنصر رابع (عمره 32 سنة...</td>\n",
       "      <td>Yes</td>\n",
       "    </tr>\n",
       "    <tr>\n",
       "      <th>10363</th>\n",
       "      <td>4816</td>\n",
       "      <td>\\nقرر الأهالي بمناطق هيشر وعين القارصي والغولا...</td>\n",
       "      <td>localnews</td>\n",
       "      <td>قرر الاهالي بمناطق هيشر وعين القارصي والغولايث...</td>\n",
       "      <td>وتأتي هذه الخطوة على خلفية ما اعتبره أهالي هذه...</td>\n",
       "      <td>Yes</td>\n",
       "    </tr>\n",
       "    <tr>\n",
       "      <th>10364</th>\n",
       "      <td>4817</td>\n",
       "      <td>\\nتمكنت وحدات الحرس الوطني بمحطة الإستخلاص ببر...</td>\n",
       "      <td>localnews</td>\n",
       "      <td>تمكنت وحدات الحرس الوطني بمحطه الاستخلاص ببرج ...</td>\n",
       "      <td>\\nتمكنت وحدات الحرس الوطني بمحطة الإستخلاص ببر...</td>\n",
       "      <td>Yes</td>\n",
       "    </tr>\n",
       "    <tr>\n",
       "      <th>10365</th>\n",
       "      <td>4818</td>\n",
       "      <td>\\nأصيب مساء اليوم الأربعاء، عسكري بطلق ناري عل...</td>\n",
       "      <td>localnews</td>\n",
       "      <td>اصيب اليوم الاربعاء عسكري بطلق ناري وجه الخطاء...</td>\n",
       "      <td></td>\n",
       "      <td>No</td>\n",
       "    </tr>\n",
       "  </tbody>\n",
       "</table>\n",
       "<p>10366 rows × 6 columns</p>\n",
       "</div>"
      ],
      "text/plain": [
       "       Unnamed: 0                                               text  \\\n",
       "0               0  \\nأشرف رئيس الجمهورية الباجي قايد السبسي اليوم...   \n",
       "1               1  \\nتحصل كتاب \"المصحف وقراءاته\" الذي ألفه باحثون...   \n",
       "2               2  \\nاستنكرت إدارة المسرح الوطني التونسي الحملة ا...   \n",
       "3               3  \\nاحتضن جناح تونس في القرية الدولية للأفلام بم...   \n",
       "4               4  \\nشهدت برلين أمس الجمعة افتتاح مسجد فريد من نو...   \n",
       "...           ...                                                ...   \n",
       "10361        4814  \\nأكد المكلف بالإعلام والاتصال بالإدارة العامة...   \n",
       "10362        4815  \\nتمكّنت فرقة الأبحاث والتفتيش للحرس الوطني بط...   \n",
       "10363        4816  \\nقرر الأهالي بمناطق هيشر وعين القارصي والغولا...   \n",
       "10364        4817  \\nتمكنت وحدات الحرس الوطني بمحطة الإستخلاص ببر...   \n",
       "10365        4818  \\nأصيب مساء اليوم الأربعاء، عسكري بطلق ناري عل...   \n",
       "\n",
       "            type                                     Processed Text  \\\n",
       "0        culture  اشرف رئيس الجمهوريه الباجي قايد السبسي اليوم ب...   \n",
       "1        culture  تحصل كتاب المصحف وقراءاته الفه باحثون تونسيون ...   \n",
       "2        culture  استنكرت اداره المسرح الوطني التونسي الحمله شنه...   \n",
       "3        culture  احتضن جناح تونس القريه الدوليه للافلام بمدينه ...   \n",
       "4        culture  شهدت برلين الجمعه افتتاح مسجد فريد نوعه الاقل ...   \n",
       "...          ...                                                ...   \n",
       "10361  localnews  اكد المكلف بالاعلام والاتصال بالاداره العامه ل...   \n",
       "10362  localnews  فرقه الابحاث والتفتيش للحرس الوطني بطبلبه ولاي...   \n",
       "10363  localnews  قرر الاهالي بمناطق هيشر وعين القارصي والغولايث...   \n",
       "10364  localnews  تمكنت وحدات الحرس الوطني بمحطه الاستخلاص ببرج ...   \n",
       "10365  localnews  اصيب اليوم الاربعاء عسكري بطلق ناري وجه الخطاء...   \n",
       "\n",
       "                                              summarizer done?  \n",
       "0      \\nأشرف رئيس الجمهورية الباجي قايد السبسي اليوم...   Yes  \n",
       "1      \\nتحصل كتاب \"المصحف وقراءاته\" الذي ألفه باحثون...   Yes  \n",
       "2                                                           No  \n",
       "3      تونس حاضرة من جهة أخرى ستكون تونس حاضرة في قائ...   Yes  \n",
       "4      واستأجرت صاحبة المشروع المحامية والكاتبة سيران...   Yes  \n",
       "...                                                  ...   ...  \n",
       "10361                                                       No  \n",
       "10362  كما تمّ إلقاء القبض على عنصر رابع (عمره 32 سنة...   Yes  \n",
       "10363  وتأتي هذه الخطوة على خلفية ما اعتبره أهالي هذه...   Yes  \n",
       "10364  \\nتمكنت وحدات الحرس الوطني بمحطة الإستخلاص ببر...   Yes  \n",
       "10365                                                       No  \n",
       "\n",
       "[10366 rows x 6 columns]"
      ]
     },
     "execution_count": 12,
     "metadata": {},
     "output_type": "execute_result"
    }
   ],
   "source": [
    "data"
   ]
  },
  {
   "cell_type": "code",
   "execution_count": 14,
   "id": "ebc855d0",
   "metadata": {
    "execution": {
     "iopub.execute_input": "2022-12-01T16:16:53.112205Z",
     "iopub.status.busy": "2022-12-01T16:16:53.111132Z",
     "iopub.status.idle": "2022-12-01T16:16:53.491176Z",
     "shell.execute_reply": "2022-12-01T16:16:53.489152Z"
    },
    "papermill": {
     "duration": 0.392128,
     "end_time": "2022-12-01T16:16:53.495738",
     "exception": false,
     "start_time": "2022-12-01T16:16:53.103610",
     "status": "completed"
    },
    "tags": []
   },
   "outputs": [
    {
     "data": {
      "image/png": "[encoded data removed]",
      "text/plain": [
       "<Figure size 640x480 with 1 Axes>"
      ]
     },
     "metadata": {},
     "output_type": "display_data"
    }
   ],
   "source": [
    "import matplotlib.pyplot as plt\n",
    "import seaborn as sns\n",
    "\n",
    "val = dict(data['done?'].value_counts())\n",
    "labels = list(val.keys())\n",
    "values = list(val.values())\n",
    "colors = sns.color_palette('pastel')[0:5]\n",
    "plt.pie(values, labels = labels, colors = colors, autopct='%.0f%%')\n",
    "plt.show()"
   ]
  },
  {
   "cell_type": "code",
   "execution_count": 15,
   "id": "505681ab",
   "metadata": {
    "execution": {
     "iopub.execute_input": "2022-12-01T16:16:53.532774Z",
     "iopub.status.busy": "2022-12-01T16:16:53.531617Z",
     "iopub.status.idle": "2022-12-01T16:16:53.555541Z",
     "shell.execute_reply": "2022-12-01T16:16:53.554614Z"
    },
    "papermill": {
     "duration": 0.044174,
     "end_time": "2022-12-01T16:16:53.557994",
     "exception": false,
     "start_time": "2022-12-01T16:16:53.513820",
     "status": "completed"
    },
    "tags": []
   },
   "outputs": [],
   "source": [
    "data = data[data['done?']=='Yes']\n",
    "final =  data.drop(['Unnamed: 0','done?'],axis=1)"
   ]
  },
  {
   "cell_type": "code",
   "execution_count": 16,
   "id": "68ed0474",
   "metadata": {
    "execution": {
     "iopub.execute_input": "2022-12-01T16:16:53.572951Z",
     "iopub.status.busy": "2022-12-01T16:16:53.572474Z",
     "iopub.status.idle": "2022-12-01T16:16:53.957132Z",
     "shell.execute_reply": "2022-12-01T16:16:53.955873Z"
    },
    "papermill": {
     "duration": 0.395762,
     "end_time": "2022-12-01T16:16:53.960399",
     "exception": false,
     "start_time": "2022-12-01T16:16:53.564637",
     "status": "completed"
    },
    "tags": []
   },
   "outputs": [],
   "source": [
    "final.to_csv('summarizdataset.csv',index = False)"
   ]
  }
 ],
 "metadata": {
  "kernelspec": {
   "display_name": "Python 3 (ipykernel)",
   "language": "python",
   "name": "python3"
  },
  "language_info": {
   "codemirror_mode": {
    "name": "ipython",
    "version": 3
   },
   "file_extension": ".py",
   "mimetype": "text/x-python",
   "name": "python",
   "nbconvert_exporter": "python",
   "pygments_lexer": "ipython3",
   "version": "3.10.6"
  },
  "papermill": {
   "default_parameters": {},
   "duration": 70.713036,
   "end_time": "2022-12-01T16:16:55.106417",
   "environment_variables": {},
   "exception": null,
   "input_path": "__notebook__.ipynb",
   "output_path": "__notebook__.ipynb",
   "parameters": {},
   "start_time": "2022-12-01T16:15:44.393381",
   "version": "2.3.4"
  }
 },
 "nbformat": 4,
 "nbformat_minor": 5
}
